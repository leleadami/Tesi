{
 "cells": [
  {
   "attachments": {},
   "cell_type": "markdown",
   "metadata": {},
   "source": [
    "<a href=\"https://colab.research.google.com/github/intelligent-environments-lab/CityLearn/blob/master/examples/cli.ipynb\" target=\"_parent\"><img src=\"https://colab.research.google.com/assets/colab-badge.svg\" alt=\"Open In Colab\"/></a>"
   ]
  },
  {
   "attachments": {},
   "cell_type": "markdown",
   "metadata": {},
   "source": [
    "# CLI\n",
    "\n",
    "Install the latest CityLearn version from PyPi with the `pip` command:"
   ]
  },
  {
   "cell_type": "code",
   "execution_count": null,
   "metadata": {},
   "outputs": [],
   "source": [
    "!pip install CityLearn"
   ]
  },
  {
   "attachments": {},
   "cell_type": "markdown",
   "metadata": {},
   "source": [
    "The CityLearn installation comes with a CLI for running simulations. The CLI is useful for use cases where multiple environment-agent setups that have been defined in schemas need to be submitted as 1 job for parallel running e.g. in an HPC.\n",
    "\n",
    "The CLI documentation is returned by executing the following in a Shell Terminal of Powershell:"
   ]
  },
  {
   "cell_type": "code",
   "execution_count": 1,
   "metadata": {},
   "outputs": [
    {
     "name": "stdout",
     "output_type": "stream",
     "text": [
      "Couldn't import dot_parser, loading of dot files will not be possible.\n",
      "usage: citylearn [-h] [--version]\n",
      "                 {run_work_order,list_datasets,list_default_time_series_variables,simulate}\n",
      "                 ...\n",
      "\n",
      "An open source Farama Foundation Gymnasium environment for benchmarking\n",
      "distributed energy resource control algorithms to provide energy flexibility\n",
      "in a district of buildings. Compatible with training and evaluating internally\n",
      "defined CityLearn agents in `citylearn.agents`, user-defined agents that\n",
      "inherit from `citylearn.agents.base.Agent` and use the same interface as it,\n",
      "and agents provided by stable-baselines3.\n",
      "\n",
      "options:\n",
      "  -h, --help            show this help message and exit\n",
      "  --version             show program's version number and exit\n",
      "\n",
      "subcommands:\n",
      "  {run_work_order,list_datasets,list_default_time_series_variables,simulate}\n",
      "    run_work_order      Run commands in parallel. Useful for running many\n",
      "                        `citylearn simulate` commands in parallel.\n",
      "    list_datasets       Lists available dataset names that can be parsed as\n",
      "                        `schema` in `citylearn simulate schema`.\n",
      "    list_default_time_series_variables\n",
      "                        Lists the default time series variables that will be\n",
      "                        reported and saved in a `JSON` file post-evaluation.\n",
      "    simulate            Train or evaluate a trained agent against an\n",
      "                        environment.\n"
     ]
    }
   ],
   "source": [
    "!python -m citylearn -h"
   ]
  },
  {
   "attachments": {},
   "cell_type": "markdown",
   "metadata": {},
   "source": [
    "## Running a Simulation using the CLI\n",
    "\n",
    "The `simulate` command is used to train or evaluate a trained agent:"
   ]
  },
  {
   "cell_type": "code",
   "execution_count": 3,
   "metadata": {},
   "outputs": [
    {
     "name": "stdout",
     "output_type": "stream",
     "text": [
      "Couldn't import dot_parser, loading of dot files will not be possible.\n",
      "usage: citylearn simulate [-h] [-a AGENT_NAME] [-ke ENV_KWARGS]\n",
      "                          [-ka AGENT_KWARGS] [-w WRAPPERS [WRAPPERS ...]]\n",
      "                          [-tv TIME_SERIES_VARIABLES [TIME_SERIES_VARIABLES ...]]\n",
      "                          [-sid SIMULATION_ID] [-fa AGENT_FILEPATH]\n",
      "                          [-d OUTPUT_DIRECTORY]\n",
      "                          [-te EVALUATION_EPISODE_TIME_STEPS EVALUATION_EPISODE_TIME_STEPS]\n",
      "                          [-p] [-rs RANDOM_SEED]\n",
      "                          schema {train,evaluate} ...\n",
      "\n",
      "positional arguments:\n",
      "  schema                Name of CityLearn dataset or filepath to a schema.\n",
      "                        Call `citylearn list_datasets` to get list of valid\n",
      "                        dataset names.\n",
      "\n",
      "options:\n",
      "  -h, --help            show this help message and exit\n",
      "  -a AGENT_NAME, --agent_name AGENT_NAME\n",
      "                        Name path to agent. Currently only compatible with\n",
      "                        internally defined CityLearn agents in\n",
      "                        `citylearn.agents`, user-defined agents that inherit\n",
      "                        from `citylearn.agents.base.Agent` and use the same\n",
      "                        interface as it, and agents provided by stable-\n",
      "                        baselines3. To use stable-baselines3 agents, make sure\n",
      "                        to run `pip install stable-baselines3` before using\n",
      "                        the `simulate command.` (default:\n",
      "                        citylearn.agents.base.BaselineAgent)\n",
      "  -ke ENV_KWARGS, --env_kwargs ENV_KWARGS\n",
      "                        Initialization parameters\n",
      "                        for`citylearn.citylearn.CityLearnEnv`. (default: None)\n",
      "  -ka AGENT_KWARGS, --agent_kwargs AGENT_KWARGS\n",
      "                        Initialization parameters for agent class. (default:\n",
      "                        None)\n",
      "  -w WRAPPERS [WRAPPERS ...], --wrappers WRAPPERS [WRAPPERS ...]\n",
      "                        Name path to environment wrappers e.g.,\n",
      "                        'citylearn.wrappers.ClippedObservationWrapper'.\n",
      "                        (default: None)\n",
      "  -tv TIME_SERIES_VARIABLES [TIME_SERIES_VARIABLES ...], --time_series_variables TIME_SERIES_VARIABLES [TIME_SERIES_VARIABLES ...]\n",
      "                        Names of building-level time series properties to be\n",
      "                        stored in the evaluation `JSON` post-evaluation. Call\n",
      "                        `citylearn list_default_time_series_variables` to see\n",
      "                        the default variable in use. (default: None)\n",
      "  -sid SIMULATION_ID, --simulation_id SIMULATION_ID\n",
      "                        SImulation reference ID used in directory and file\n",
      "                        names. (default: None)\n",
      "  -fa AGENT_FILEPATH, --agent_filepath AGENT_FILEPATH\n",
      "                        Filepath to previously saved agent to use for training\n",
      "                        or evaluation. (default: None)\n",
      "  -d OUTPUT_DIRECTORY, --output_directory OUTPUT_DIRECTORY\n",
      "                        Directory to save all simulation output to. (default:\n",
      "                        None)\n",
      "  -te EVALUATION_EPISODE_TIME_STEPS EVALUATION_EPISODE_TIME_STEPS, --evaluation_episode_time_steps EVALUATION_EPISODE_TIME_STEPS EVALUATION_EPISODE_TIME_STEPS\n",
      "                        Start and end time steps in data set to evaluate on\n",
      "                        otherwise, the agent is evaluated on entire dataset.\n",
      "                        (default: None)\n",
      "  -p, --append          Add to output for existing simulation with\n",
      "                        `simulation_id` i.e. do not overwrite. (default: True)\n",
      "  -rs RANDOM_SEED, --random_seed RANDOM_SEED\n",
      "                        Random seed used during environment and agent\n",
      "                        initialization. (default: None)\n",
      "\n",
      "simulate subcommands:\n",
      "  {train,evaluate}\n",
      "    train               Train an agent.\n",
      "    evaluate            Deterministically evaluate an agent.\n"
     ]
    }
   ],
   "source": [
    "!python -m citylearn simulate -h"
   ]
  }
 ],
 "metadata": {
  "kernelspec": {
   "display_name": "test-py311-env",
   "language": "python",
   "name": "python3"
  },
  "language_info": {
   "codemirror_mode": {
    "name": "ipython",
    "version": 3
   },
   "file_extension": ".py",
   "mimetype": "text/x-python",
   "name": "python",
   "nbconvert_exporter": "python",
   "pygments_lexer": "ipython3",
   "version": "3.11.8"
  },
  "orig_nbformat": 4
 },
 "nbformat": 4,
 "nbformat_minor": 2
}
